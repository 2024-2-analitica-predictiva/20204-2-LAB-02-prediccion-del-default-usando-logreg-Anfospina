{
 "cells": [
  {
   "cell_type": "code",
   "execution_count": 2,
   "metadata": {},
   "outputs": [],
   "source": [
    "import pandas as pd\n",
    "import numpy as np\n",
    "import os\n",
    "import json\n",
    "import gzip\n",
    "import pickle\n",
    "from sklearn.compose import ColumnTransformer\n",
    "from sklearn.pipeline import Pipeline\n",
    "from sklearn.preprocessing import OneHotEncoder,MinMaxScaler\n",
    "from sklearn.linear_model import LogisticRegression\n",
    "\n",
    "from sklearn.model_selection import GridSearchCV\n",
    "from sklearn.metrics import (\n",
    "    precision_score,\n",
    "    recall_score,\n",
    "    f1_score,\n",
    "    balanced_accuracy_score,\n",
    "    confusion_matrix,\n",
    ")\n",
    "\n",
    "\n",
    "def clean_data(path):\n",
    "    d_frame=pd.read_csv(path,index_col=False,compression='zip')\n",
    "    \n",
    "    d_frame.rename(columns={'default payment next month':'default'},inplace=True)\n",
    "    d_frame.drop(columns='ID',inplace=True)\n",
    "    d_frame=d_frame.loc[d_frame[(d_frame['EDUCATION']!=0) & (d_frame['MARRIAGE']!=0)].index]\n",
    "    d_frame['EDUCATION']=d_frame['EDUCATION'].apply(lambda x: 4 if x>4 else x)\n",
    "    return d_frame\n",
    "\n",
    "train_data=clean_data('../files/input/train_data.csv.zip')\n",
    "train_data\n",
    "x_train=train_data.drop(columns=\"default\")\n",
    "y_train=train_data[\"default\"]"
   ]
  },
  {
   "cell_type": "code",
   "execution_count": 3,
   "metadata": {},
   "outputs": [],
   "source": [
    "categorical_columns=['EDUCATION', 'MARRIAGE', 'SEX']\n",
    "numerical_columns=[col for col in x_train.columns if col not in categorical_columns]"
   ]
  }
 ],
 "metadata": {
  "kernelspec": {
   "display_name": ".venv",
   "language": "python",
   "name": "python3"
  },
  "language_info": {
   "codemirror_mode": {
    "name": "ipython",
    "version": 3
   },
   "file_extension": ".py",
   "mimetype": "text/x-python",
   "name": "python",
   "nbconvert_exporter": "python",
   "pygments_lexer": "ipython3",
   "version": "3.12.5"
  }
 },
 "nbformat": 4,
 "nbformat_minor": 2
}
